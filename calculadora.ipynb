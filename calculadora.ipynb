{
  "nbformat": 4,
  "nbformat_minor": 0,
  "metadata": {
    "colab": {
      "name": "calculadora.ipynb",
      "provenance": [],
      "authorship_tag": "ABX9TyPYPmitcMQ1tyATDlDh7x++",
      "include_colab_link": true
    },
    "kernelspec": {
      "name": "python3",
      "display_name": "Python 3"
    }
  },
  "cells": [
    {
      "cell_type": "markdown",
      "metadata": {
        "id": "view-in-github",
        "colab_type": "text"
      },
      "source": [
        "<a href=\"https://colab.research.google.com/github/hugo807/sistemas-expertos/blob/master/calculadora.ipynb\" target=\"_parent\"><img src=\"https://colab.research.google.com/assets/colab-badge.svg\" alt=\"Open In Colab\"/></a>"
      ]
    },
    {
      "cell_type": "code",
      "metadata": {
        "id": "b29cyr9fLido",
        "colab_type": "code",
        "colab": {}
      },
      "source": [
        "\n",
        "# calculadora con opciones aritmeticas\n",
        "\n",
        "\n",
        "while 1:\n",
        "    x= float(input(\"ingresa el primer numero\"))\n",
        "    y= float(input(\"ingresa el segundo numero\"))\n",
        "\n",
        "    print(\"selecciona la opcion que desees realizar\")\n",
        "    print(\"1 suma\")\n",
        "    print(\"2 resta\")\n",
        "    print(\"3 multiplicacion\")\n",
        "    print(\"4 divicion\")\n",
        "\n",
        "    n = int(input(\"¿cual opcion quieres? \"))\n",
        "    if n==1:\n",
        "        resultado= x+y\n",
        "        print(resultado)\n",
        "    elif n==2:\n",
        "        resultado= x-y\n",
        "        print(resultado)\n",
        "    elif n==3:\n",
        "        resultado= x*y\n",
        "        print(resultado)\n",
        "    elif n==4 and y!=0:\n",
        "        resultado= x/y\n",
        "        print(resultado)"
      ],
      "execution_count": null,
      "outputs": []
    }
  ]
}